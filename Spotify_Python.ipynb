{
 "cells": [
  {
   "cell_type": "code",
   "execution_count": 1,
   "id": "5de8c96b",
   "metadata": {},
   "outputs": [],
   "source": [
    "#pip install pandas spotipy\n"
   ]
  },
  {
   "cell_type": "code",
   "execution_count": 29,
   "id": "1df638f2",
   "metadata": {},
   "outputs": [],
   "source": [
    "import pandas as pd\n",
    "from spotipy.oauth2 import SpotifyClientCredentials\n",
    "import spotipy\n",
    "import chardet\n",
    "\n",
    "# Replace these values with your Spotify API credentials\n",
    "CLIENT_ID = '98c87f38628140e78d531161045e62d4'\n",
    "CLIENT_SECRET = '35c0fe1e48f24158b853ffdacbdda8e4'\n",
    "\n",
    "# Replace this with the path to your Kaggle Spotify CSV file\n",
    "file_path = r'C:\\Users\\gauri\\Downloads\\powerbi_Spotify\\spotify.csv'\n",
    "\n",
    "with open(file_path, 'rb') as f:\n",
    "    result = chardet.detect(f.read())\n",
    "\n",
    "# Read the CSV file\n",
    "df = pd.read_csv(file_path, encoding=result['encoding'])\n",
    "\n",
    "# Function to get Spotify URLs for songs or albums\n",
    "def get_spotify_urls(track_name, artist_name):\n",
    "    client_credentials_manager = SpotifyClientCredentials(client_id=CLIENT_ID, client_secret=CLIENT_SECRET)\n",
    "    sp = spotipy.Spotify(client_credentials_manager=client_credentials_manager)\n",
    "\n",
    "    # Search for the track using the Spotify API\n",
    "    results = sp.search(q=f'track:{track_name} artist:{artist_name}', type='track')\n",
    "\n",
    "    # Extract the first track's Spotify URL\n",
    "    if results['tracks']['items']:\n",
    "        return results['tracks']['items'][0]['external_urls']['spotify']\n",
    "    else:\n",
    "        return None\n",
    "\n",
    "# Add a new column 'spotify_url' with Spotify URLs\n",
    "df['spotify_url'] = df.apply(lambda row: get_spotify_urls(row['track_name'], row['artist_name']), axis=1)\n",
    "\n",
    "# Save the updated DataFrame to a new CSV file\n",
    "df.to_csv('spotify_data_with_urls.csv', index=False)\n"
   ]
  },
  {
   "cell_type": "code",
   "execution_count": null,
   "id": "4fee0268",
   "metadata": {},
   "outputs": [],
   "source": []
  }
 ],
 "metadata": {
  "kernelspec": {
   "display_name": "Python 3 (ipykernel)",
   "language": "python",
   "name": "python3"
  },
  "language_info": {
   "codemirror_mode": {
    "name": "ipython",
    "version": 3
   },
   "file_extension": ".py",
   "mimetype": "text/x-python",
   "name": "python",
   "nbconvert_exporter": "python",
   "pygments_lexer": "ipython3",
   "version": "3.9.13"
  }
 },
 "nbformat": 4,
 "nbformat_minor": 5
}
